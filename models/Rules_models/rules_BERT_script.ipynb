{
 "cells": [
  {
   "cell_type": "markdown",
   "metadata": {},
   "source": [
    "This script takes the output of the rules based model and prepares it (turns it into a tensorflow records file of tokenized inputs) for ingestion by the BERT model. The BERT_prep module is largely identicial to the BERT_data_prep script.\n",
    "\n",
    "The vocab file is the vocab used by BERT for wordpiece to ID lookup, which can be downloaded as part of the BERT base model: <https://storage.googleapis.com/bert_models/2018_10_18/uncased_L-12_H-768_A-12.zip>. The tokenization module (used in BERT_prep) can be downloaded from: <https://github.com/google-research/bert>"
   ]
  },
  {
   "cell_type": "code",
   "execution_count": null,
   "metadata": {},
   "outputs": [],
   "source": [
    "from BERT_prep import write_TF_records\n",
    "import pickle"
   ]
  },
  {
   "cell_type": "code",
   "execution_count": null,
   "metadata": {},
   "outputs": [],
   "source": [
    "# Get the rules results\n",
    "\n",
    "def read_data(test_file):\n",
    "    with open(test_file, 'rb') as f:\n",
    "        data = pickle.load(f)\n",
    "        return data"
   ]
  },
  {
   "cell_type": "code",
   "execution_count": null,
   "metadata": {},
   "outputs": [],
   "source": [
    "test_file = \"\" # Path to rules outputs\n",
    "rules_data = read_data(test_file)"
   ]
  },
  {
   "cell_type": "code",
   "execution_count": null,
   "metadata": {},
   "outputs": [],
   "source": [
    "# set tokenizer params\n",
    "\n",
    "max_seq_length = 128\n",
    "vocab_file = \"\" # Path to vocab file\n",
    "do_lower_case = True"
   ]
  },
  {
   "cell_type": "code",
   "execution_count": null,
   "metadata": {},
   "outputs": [],
   "source": [
    "# Write TFR output\n",
    "\n",
    "output_file = \"\" # Set output file path\n",
    "write_TF_records(rules_data['predictions'], max_seq_length, vocab_file, do_lower_case, output_file, sections=False)"
   ]
  }
 ],
 "metadata": {
  "kernelspec": {
   "display_name": "Python 3",
   "language": "python",
   "name": "python3"
  },
  "language_info": {
   "codemirror_mode": {
    "name": "ipython",
    "version": 3
   },
   "file_extension": ".py",
   "mimetype": "text/x-python",
   "name": "python",
   "nbconvert_exporter": "python",
   "pygments_lexer": "ipython3",
   "version": "3.6.3"
  }
 },
 "nbformat": 4,
 "nbformat_minor": 2
}
