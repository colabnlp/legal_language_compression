{
 "cells": [
  {
   "cell_type": "markdown",
   "metadata": {},
   "source": [
    "## Rules based model\n",
    "\n",
    "This script runs the rules based model on an input file. The model requires no training and can be run directly on the test set.\n",
    "\n",
    "The rule_transformations model was built using scpaCy version 2.0 and has not be tested on more recent versions."
   ]
  },
  {
   "cell_type": "code",
   "execution_count": 1,
   "metadata": {},
   "outputs": [],
   "source": [
    "from rule_transformations import apply_rules\n",
    "import pickle"
   ]
  },
  {
   "cell_type": "code",
   "execution_count": 2,
   "metadata": {},
   "outputs": [],
   "source": [
    "def read_data(test_file):\n",
    "    with open(test_file, 'rb') as f:\n",
    "        data = pickle.load(f)\n",
    "        return data"
   ]
  },
  {
   "cell_type": "code",
   "execution_count": 61,
   "metadata": {},
   "outputs": [],
   "source": [
    "# Read the test data\n",
    "\n",
    "test_file = \"\" # Data path\n",
    "test_data = read_data(test_file)\n",
    "test_text = []\n",
    "compressed_text = []\n",
    "for i in test_data:\n",
    "    test_text.append(test_data[i]['full_text'])\n",
    "    compressed_text.append(test_data[i]['compressed_text'])"
   ]
  },
  {
   "cell_type": "code",
   "execution_count": 39,
   "metadata": {},
   "outputs": [],
   "source": [
    "# Apply the rules\n",
    "\n",
    "predictions, predicted_indices = apply_rules(test_text)"
   ]
  },
  {
   "cell_type": "code",
   "execution_count": 40,
   "metadata": {},
   "outputs": [],
   "source": [
    "# Read test labels to generate targets (for evaluation purposes)\n",
    "\n",
    "test_labels = \"\" # Path to test labels (the labels used for the LSTM model)\n",
    "\n",
    "with open(\"C:/Users/richa/Documents/Masters/Project/data_final/LSTM_leg_data/leg_test_label.txt\") as f:\n",
    "    target_labels = []\n",
    "    predicted_labels = []\n",
    "    count = 0\n",
    "    for line in f:\n",
    "        if line[-1] == \"\\n\":\n",
    "            tar_labels = np.array(line[:-1].split(\" \"), dtype='float32')\n",
    "        else:\n",
    "            tar_labels = np.array(line.split(\" \"), dtype='float32')\n",
    "        target_labels.append(tar_labels)\n",
    "        pred_labels = np.copy(np.zeros(len(tar_labels)))\n",
    "        for i in range(len(tar_labels)):\n",
    "            if int(i) in predicted_indices[count]:\n",
    "                pred_labels[i] = 1\n",
    "        predicted_labels.append(pred_labels)\n",
    "        count += 1"
   ]
  },
  {
   "cell_type": "code",
   "execution_count": 65,
   "metadata": {},
   "outputs": [],
   "source": [
    "# Write results\n",
    "\n",
    "results = {}\n",
    "results['true_labels'] = target_labels\n",
    "results['predicted_labels'] = predicted_labels\n",
    "results['predictions'] = predictions\n",
    "results['targets'] = compressed_text\n",
    "results['originals'] = test_text\n",
    "\n",
    "results_file = \"\" # Set results file\n",
    "\n",
    "with open(results_file, 'wb') as f:\n",
    "    # Pickle the 'data' dictionary using the highest protocol available.\n",
    "    pickle.dump(results, f, pickle.HIGHEST_PROTOCOL)"
   ]
  }
 ],
 "metadata": {
  "kernelspec": {
   "display_name": "Python 3",
   "language": "python",
   "name": "python3"
  },
  "language_info": {
   "codemirror_mode": {
    "name": "ipython",
    "version": 3
   },
   "file_extension": ".py",
   "mimetype": "text/x-python",
   "name": "python",
   "nbconvert_exporter": "python",
   "pygments_lexer": "ipython3",
   "version": "3.6.3"
  }
 },
 "nbformat": 4,
 "nbformat_minor": 2
}
